{
  "nbformat": 4,
  "nbformat_minor": 0,
  "metadata": {
    "colab": {
      "name": "Dosyaları Mega'dan Google Drive'a aktarın",
      "provenance": [],
      "collapsed_sections": [
        "uzNhWbBScpCB",
        "9NX3YmadHXtb",
        "kSvUMUuTPX7r",
        "7TGCDD4YGd_a"
      ],
      "toc_visible": true,
      "machine_shape": "hm"
    },
    "kernelspec": {
      "name": "python3",
      "display_name": "Python 3"
    }
  },
  "cells": [
    {
      "cell_type": "markdown",
      "metadata": {
        "id": "view-in-github",
        "colab_type": "text"
      },
      "source": [
        "<a href=\"https://colab.research.google.com/github/Emre37destan/Mega-Transfer-Google-Drive/blob/master/Transfer_files_from_Mega_to_Google_Drive.ipynb\" target=\"_parent\"><img src=\"https://colab.research.google.com/assets/colab-badge.svg\" alt=\"Open In Colab\"/></a>"
      ]
    },
    {
      "cell_type": "markdown",
      "metadata": {
        "id": "PIbxZ-1ofeCG",
        "colab_type": "text"
      },
      "source": [
        "# **<font color='blue'> Google Drive'daki herhangi bir dosya - Paylaşan [Destan](http://youtube.com/channel/UCVE9gvwcxhHndoRm4s3iVmw?sub_confirmation=1) </font>**"
      ]
    },
    {
      "cell_type": "markdown",
      "metadata": {
        "id": "uzNhWbBScpCB",
        "colab_type": "text"
      },
      "source": [
        "##__GDrive'ı şuraya bağlayın /content/drive__\n",
        "#####Aşağıdaki yöntemlerden birini kullanın. Google Drive File Stream uygulamasıyla eklemek daha rahattır, ancak bazı yazma sorunları vardır. Böylece, bunun yerine Rclone kullanarak bunlardan kaçınabilirsiniz."
      ]
    },
    {
      "cell_type": "markdown",
      "metadata": {
        "id": "VxQ1zquNGKOz",
        "colab_type": "text"
      },
      "source": [
        "###__Google Drive Dosya Senkronizasyonu ile ekleyin - (Easier)__"
      ]
    },
    {
      "cell_type": "code",
      "metadata": {
        "id": "tPuLCnbGFmxo",
        "colab_type": "code",
        "cellView": "form",
        "colab": {}
      },
      "source": [
        "#@markdown <br><center><img src='https://upload.wikimedia.org/wikipedia/commons/thumb/d/da/Google_Drive_logo.png/600px-Google_Drive_logo.png' height=\"50\" alt=\"Gdrive-logo\"/></center>\n",
        "#@markdown <center><h3>GDrive'ı şuraya bağlayın /content/drive</h3></center><br>\n",
        "MODE = \"MOUNT\" #@param [\"MOUNT\", \"UNMOUNT\"]\n",
        "#Mount your Gdrive! \n",
        "from google.colab import drive\n",
        "drive.mount._DEBUG = False\n",
        "if MODE == \"MOUNT\":\n",
        "  drive.mount('/content/drive', force_remount=True)\n",
        "elif MODE == \"UNMOUNT\":\n",
        "  try:\n",
        "    drive.flush_and_unmount()\n",
        "  except ValueError:\n",
        "    pass\n",
        "  get_ipython().system_raw(\"rm -rf /root/.config/Google/DriveFS\")"
      ],
      "execution_count": null,
      "outputs": []
    },
    {
      "cell_type": "code",
      "metadata": {
        "colab_type": "code",
        "cellView": "form",
        "id": "VHgreL9PHXtg",
        "colab": {}
      },
      "source": [
        "# ============================= FORM ============================= #\n",
        "#@markdown <br><center><img src='https://rclone.org/img/logo_on_light__horizontal_color.svg' height=\"50\" alt=\"Gdrive-logo\"/></center>\n",
        "#@markdown <center><h3>GDrive'ı şuraya bağlayın /content/drive</h3></center><br>\n",
        "rclone_config_name = \"Sürücünüz\" #@param {type:\"string\"}\n",
        "local_mount_location = \"/content/drive/\" #@param {type:\"string\"}\n",
        "# ============================= FORM ============================= #\n",
        "import time\n",
        "import os\n",
        "\n",
        "# clear nohup\n",
        "open(\"nohup.out\", 'w').close()\n",
        "\n",
        "\n",
        "# unmount first\n",
        "\n",
        "!fusermount -u $local_mount_location 2>/dev/null\n",
        "\n",
        "\n",
        "# komutun tamamlanmasını beklemeden monte edin\n",
        "!mkdir $local_mount_location 2>/dev/null\n",
        "!nohup rclone montajı $rclone_config_name: $local_mount_location --buffer-size 96M & \n",
        "  \n",
        "\n",
        "\n",
        "# Nohup'a yazılan çıktıyı göster\n",
        "time.sleep(3)\n",
        "f = open(r\"nohup.out\", \"r\")\n",
        "nohupText = f.read()\n",
        "f.close()\n",
        "\n",
        "\n",
        "dirs = os.listdir(local_mount_location)\n",
        "\n",
        "if len(dirs) > 0:\n",
        "  clear_output(wait=True)\n",
        "  print(\"Succeeded. \", str(len(dirs)), \"dirs bulundu\", local_mount_location)\n",
        "\n",
        "else:\n",
        "  print(\"\\n\\nBaşarılı değil. Bağlanmış konumda dosya veya dizin yok. \\nYapılandırma adınızı ve içeriğinizi kontrol edin. Rclone komutu bulunamazsa, yukarıdaki hücreyi çalıştırın.\\n\\n\")\n",
        "  print(\"log:\\n\", nohupText)"
      ],
      "execution_count": null,
      "outputs": []
    },
    {
      "cell_type": "markdown",
      "metadata": {
        "id": "kSvUMUuTPX7r",
        "colab_type": "text"
      },
      "source": [
        "##__Mega'dan GDrive'a transfer__\n",
        "\n",
        "\n",
        "\n"
      ]
    },
    {
      "cell_type": "code",
      "metadata": {
        "id": "XlDyLy_JZJ03",
        "colab_type": "code",
        "cellView": "form",
        "colab": {}
      },
      "source": [
        "import sys, os, urllib.request\n",
        "import time\n",
        "import subprocess\n",
        "import contextlib\n",
        "from IPython.display import clear_output\n",
        "#@markdown <br><center><img src='https://mega.nz/favicon.ico?v=3' height=\"50\" alt=\"MEGA-logo\"/></center>\n",
        "#@markdown <center><h2>Mega'dan GDrive'a transfer</h2></center><br>\n",
        "HOME = os.path.expanduser(\"~\")\n",
        "if not os.path.exists(f\"{HOME}/.ipython/ocr.py\"):\n",
        "    hCode = \"https://raw.githubusercontent.com/biplobsd/\" \\\n",
        "                \"OneClickRun/master/res/ocr.py\"\n",
        "    urllib.request.urlretrieve(hCode, f\"{HOME}/.ipython/ocr.py\")\n",
        "\n",
        "from ocr import (\n",
        "    runSh,\n",
        "    loadingAn,\n",
        ")\n",
        "#@title MEGA genel bağlantı indirme\n",
        "URL = \"\" #@param {type:\"string\"}\n",
        "OUTPUT_PATH = \"\" #@param {type:\"string\"}\n",
        "if not OUTPUT_PATH:\n",
        "  os.makedirs(\"downloads\", exist_ok=True)\n",
        "  OUTPUT_PATH = \"downloads\"\n",
        "# MEGAcmd installing\n",
        "if not os.path.exists(\"/usr/bin/mega-cmd\"):\n",
        "    loadingAn()\n",
        "    print(\"MEGA kurulumu ...\")\n",
        "    runSh('sudo apt-get -y update')\n",
        "    runSh('sudo apt-get -y install libmms0 libc-ares2 libc6 libcrypto++6 libgcc1 libmediainfo0v5 libpcre3 libpcrecpp0v5 libssl1.1 libstdc++6 libzen0v5 zlib1g apt-transport-https')\n",
        "    runSh('sudo curl -sL -o /var/cache/apt/archives/MEGAcmd.deb https://mega.nz/linux/MEGAsync/Debian_9.0/amd64/megacmd-Debian_9.0_amd64.deb', output=True)\n",
        "    runSh('sudo dpkg -i /var/cache/apt/archives/MEGAcmd.deb', output=True)\n",
        "    print(\"MEGA kurulur.\")\n",
        "    clear_output()\n",
        "\n",
        "# Unix, Windows and old Macintosh end-of-line\n",
        "newlines = ['\\n', '\\r\\n', '\\r']\n",
        "\n",
        "def unbuffered(proc, stream='stdout'):\n",
        "    stream = getattr(proc, stream)\n",
        "    with contextlib.closing(stream):\n",
        "        while True:\n",
        "            out = []\n",
        "            last = stream.read(1)\n",
        "            # Don't loop forever\n",
        "            if last == '' and proc.poll() Hiçbiri değil:\n",
        "                break\n",
        "            while last not in newlines:\n",
        "                # Don't loop forever\n",
        "                if last == '' and proc.poll() Hiçbiri değil:\n",
        "                    break\n",
        "                out.append(last)\n",
        "                last = stream.read(1)\n",
        "            out = ''.join(out)\n",
        "            yield out\n",
        "\n",
        "\n",
        "def transfare():\n",
        "    import codecs\n",
        "    decoder = codecs.getincrementaldecoder(\"UTF-8\")()\n",
        "    cmd = [\"mega-get\", URL, OUTPUT_PATH]\n",
        "    proc = subprocess.Popen(\n",
        "        cmd,\n",
        "        stdout=subprocess.PIPE,\n",
        "        stderr=subprocess.STDOUT,\n",
        "        # Make all end-of-lines '\\n'\n",
        "        universal_newlines=True,\n",
        "    )\n",
        "    for line in unbuffered(proc):\n",
        "        print(line)\n",
        "        \n",
        "\n",
        "\n",
        "transfare()\n",
        "\n"
      ],
      "execution_count": null,
      "outputs": []
    },
    {
      "cell_type": "markdown",
      "metadata": {
        "id": "7TGCDD4YGd_a",
        "colab_type": "text"
      },
      "source": [
        "####_Güncelleme: Mega Pro hesabınız varsa, bant genişliğini kullanmak için oturum açın(transfer quota)_"
      ]
    },
    {
      "cell_type": "code",
      "metadata": {
        "id": "Vgh1xlQYGZCO",
        "colab_type": "code",
        "cellView": "form",
        "colab": {}
      },
      "source": [
        "# @markdown <center><h3>Mega Kimliğinizi Girin</h3></center><br>\n",
        "from functools import wraps\n",
        "import errno\n",
        "import os\n",
        "import signal\n",
        "import subprocess\n",
        "import shlex\n",
        "\n",
        "\n",
        "class TimeoutError(Exception):\n",
        "    pass\n",
        "\n",
        "\n",
        "def timeout(seconds=10, error_message=os.strerror(errno.ETIME)):\n",
        "    def decorator(func):\n",
        "        def _handle_timeout(signum, frame):\n",
        "            raise TimeoutError(error_message)\n",
        "\n",
        "        def wrapper(*args, **kwargs):\n",
        "            signal.signal(signal.SIGALRM, _handle_timeout)\n",
        "            signal.alarm(seconds)\n",
        "            try:\n",
        "                result = func(*args, **kwargs)\n",
        "            finally:\n",
        "                signal.alarm(0)\n",
        "            return result\n",
        "\n",
        "        return wraps(func)(wrapper)\n",
        "\n",
        "    return decorator\n",
        "\n",
        "\n",
        "if not os.path.exists(\"/root/.ipython/ocr.py\"):\n",
        "    from subprocess import run\n",
        "    from shlex import split\n",
        "\n",
        "    shellCmd = \"wget -qq https://raw.githubusercontent.com/biplobsd/OneClickRun/master/res/ocr.py \\\n",
        "                    -O /root/.ipython/ocr.py\"\n",
        "    run(split(shellCmd))\n",
        "from ocr import runSh\n",
        "\n",
        "@timeout(10)\n",
        "def runShT(args):\n",
        "    return runSh(args, output=True)\n",
        "\n",
        "\n",
        "# MEGAcmd installing\n",
        "if not os.path.exists(\"/usr/bin/mega-cmd\"):\n",
        "    print(\"MEGA kurulumu ...\")\n",
        "    runSh('sudo apt-get -y update')\n",
        "    runSh('sudo apt-get -y install libmms0 libc-ares2 libc6 libcrypto++6 libgcc1 libmediainfo0v5 libpcre3 libpcrecpp0v5 libssl1.1 libstdc++6 libzen0v5 zlib1g apt-transport-https')\n",
        "    runSh('sudo curl -sL -o /var/cache/apt/archives/MEGAcmd.deb https://mega.nz/linux/MEGAsync/Debian_9.0/amd64/megacmd-Debian_9.0_amd64.deb', output=True)\n",
        "    runSh('sudo dpkg -i /var/cache/apt/archives/MEGAcmd.deb', output=True)\n",
        "    print(\"MEGA kurulur.\")\n",
        "else:\n",
        "    !pkill mega-cmd\n",
        "\n",
        "# INPUT YOUR MEGA ID\n",
        "\n",
        "USERNAME = \"\"  # @param {type:\"string\"}\n",
        "PASSWORD = \"\"  # @param {type:\"string\"}\n",
        "if not (USERNAME == \"\" or PASSWORD == \"\"):\n",
        "    try:\n",
        "        runShT(f\"mega-login {USERNAME} {PASSWORD}\")\n",
        "    except TimeoutError:\n",
        "        runSh('mega-whoami', output=True)\n",
        "else:\n",
        "    print(\"Lütfen Mega Kimliklerinizi girin.\")\n",
        "# @markdown *Giriş yaptıktan sonra, Mega Pro Hesabınızın transfer kotasını kullanarak Mega'dan GDrive'a dosya aktarmak için yukarıdaki hücreyi (Main Cell) kullanın.*"
      ],
      "execution_count": null,
      "outputs": []
    },
    {
      "cell_type": "markdown",
      "metadata": {
        "id": "fhwIXzcgfkoR",
        "colab_type": "text"
      },
      "source": [
        "#◀️ Bunun gibi daha güzel şeyler almak için Youtube Kanalına abone olun: [Destan](http://youtube.com/channel/UCVE9gvwcxhHndoRm4s3iVmw?sub_confirmation=1)"
      ]
    }
  ]
}
