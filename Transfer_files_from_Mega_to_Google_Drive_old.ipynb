{
  "nbformat": 4,
  "nbformat_minor": 0,
  "metadata": {
    "colab": {
      "name": "Dosyaları Mega'dan Google Drive'a aktarın",
      "provenance": [],
      "collapsed_sections": [
        "uzNhWbBScpCB",
        "kSvUMUuTPX7r"
      ],
      "toc_visible": true,
      "machine_shape": "hm"
    },
    "kernelspec": {
      "name": "python3",
      "display_name": "Python 3"
    }
  },
  "cells": [
    {
      "cell_type": "markdown",
      "metadata": {
        "id": "view-in-github",
        "colab_type": "text"
      },
      "source": [
        "<a href=\"https://colab.research.google.com/github/Emre37destan/Mega-Transfer-Google-Drive/blob/master/Transfer_files_from_Mega_to_Google_Drive_old.ipynb\" target=\"_parent\"><img src=\"https://colab.research.google.com/assets/colab-badge.svg\" alt=\"Colab'da Aç\"/></a>"
      ]
    },
    {
      "cell_type": "markdown",
      "metadata": {
        "id": "PIbxZ-1ofeCG",
        "colab_type": "text"
      },
      "source": [
        "# **<font color='blue'> Mega.nz Siteyi Google Drive'ye Transger Et - Paylaşan [Destan](http://youtube.com/channel/UCVE9gvwcxhHndoRm4s3iVmw?sub_confirmation=1) </font>**"
      ]
    },
    {
      "cell_type": "markdown",
      "metadata": {
        "id": "uzNhWbBScpCB",
        "colab_type": "text"
      },
      "source": [
        "##__Google Drive'ı şuraya bağlayın /content/drive__"
      ]
    },
    {
      "cell_type": "code",
      "metadata": {
        "id": "tPuLCnbGFmxo",
        "colab_type": "code",
        "cellView": "form",
        "colab": {}
      },
      "source": [
        "#@markdown <br><center><img src='https://upload.wikimedia.org/wikipedia/commons/thumb/d/da/Google_Drive_logo.png/600px-Google_Drive_logo.png' height=\"50\" alt=\"Gdrive-logo\"/></center>\n",
        "#@markdown <center><h3>Google Drive'ı şuraya bağlayın /content/drive</h3></center><br>\n",
        "MOD = \"MOUNT\" #@param [\"MOUNT\", \"UNMOUNT\"]\n",
        "#Google Drive'ı şuraya bağlayın! \n",
        "from google.colab import drive\n",
        "drive.mount._DEBUG = False\n",
        "if MOD == \"MOUNT\":\n",
        "  drive.mount('/content/drive', force_remount=True)\n",
        "elif MOD == \"UNMOUNT\":\n",
        "  try:\n",
        "    drive.flush_and_unmount()\n",
        "  ValueError hariç:\n",
        "    pass\n",
        "  get_ipython().system_raw(\"rm -rf /root/.config/Google/DriveFS\")"
      ],
      "execution_count": 0,
      "çıktılar": []
    },
    {
      "cell_type": "markdown",
      "metadata": {
        "id": "kSvUMUuTPX7r",
        "colab_type": "text"
      },
      "source": [
        "##__Mega'dan Google Drive'a transfer__\n",
        "\n",
        "\n",
        "\n"
      ]
    },
    {
      "cell_type": "code",
      "metadata": {
        "id": "XlDyLy_JZJ03",
        "colab_type": "code",
        "cellView": "form",
        "colab": {}
      },
      "source": [
        "import sys, os, urllib.request\n",
        "import time\n",
        "import subprocess\n",
        "import contextlib\n",
        "from IPython.display import clear_output\n",
        "#@markdown <br><center><img src='https://mega.nz/favicon.ico?v=3' height=\"50\" alt=\"MEGA-logo\"/></center>\n",
        "#@markdown <center><h3>Mega'dan GDrive'a transfer</h3></center><br>\n",
        "HOME = os.path.expanduser(\"~\")\n",
        "if not os.path.exists(f\"{HOME}/.ipython/ocr.py\"):\n",
        "    hCode = \"https://raw.githubusercontent.com/biplobsd/\" \\\n",
        "                \"OneClickRun/master/res/ocr.py\"\n",
        "    urllib.request.urlretrieve(hCode, f\"{HOME}/.ipython/ocr.py\")\n",
        "\n",
        "from ocr import (\n",
        "    runSh,\n",
        "    loadingAn,\n",
        ")\n",
        "#@title MEGA genel bağlantı indirme\n",
        "LINK = \"\" #@param {type:\"string\"}\n",
        "DOSYA_KONUM = \"\" #@param {type:\"string\"}\n",
        "değilse DOSYA_KONUM:\n",
        "  os.makedirs(\"downloads\", exist_ok=True)\n",
        "  DOSYA_KONUM = \"downloads\"\n",
        "# MEGAcmd installing\n",
        "if not os.path.exists(\"/usr/bin/mega-cmd\"):\n",
        "    loadingAn()\n",
        "    print(\"MEGA kurulumuyor ...\")\n",
        "    runSh('sudo apt-get -y update')\n",
        "    runSh('sudo apt-get -y install libmms0 libc-ares2 libc6 libcrypto++6 libgcc1 libmediainfo0v5 libpcre3 libpcrecpp0v5 libssl1.1 libstdc++6 libzen0v5 zlib1g apt-transport-https')\n",
        "    runSh('sudo curl -sL -o /var/cache/apt/archives/MEGAcmd.deb https://mega.nz/linux/MEGAsync/Debian_9.0/amd64/megacmd-Debian_9.0_amd64.deb', output=True)\n",
        "    runSh('sudo dpkg -i /var/cache/apt/archives/MEGAcmd.deb', output=True)\n",
        "    print(\"MEGA kuruldu.\")\n",
        "    clear_output()\n",
        "\n",
        "# Unix,  Windows and old Macintosh end-of-line\n",
        "newlines = ['\\n', '\\r\\n', '\\r']\n",
        "\n",
        "def unbuffered(proc, stream='stdout'):\n",
        "    stream = getattr(proc, stream)\n",
        "    with contextlib.closing(stream):\n",
        "        while True:\n",
        "            out = []\n",
        "            last = stream.read(1)\n",
        "            # Sonsuza kadar döngü yapmayın\n",
        "            if last == '' and proc.poll() Hiçbiri değil:\n",
        "                break\n",
        "            while last not in newlines:\n",
        "                # Sonsuza kadar döngü yapmayın\n",
        "                if last == '' and proc.poll() Hiçbiri değil:\n",
        "                    break\n",
        "                out.append(last)\n",
        "                last = stream.read(1)\n",
        "            out = ''.join(out)\n",
        "            yield out\n",
        "\n",
        "\n",
        "def transfare():\n",
        "    import codecs\n",
        "    decoder = codecs.getincrementaldecoder(\"UTF-8\")()\n",
        "    cmd = [\"mega-get\", LINK, DOSYA_KONUM]\n",
        "    proc = subprocess.Popen(\n",
        "        cmd,\n",
        "        stdout=subprocess.PIPE,\n",
        "        stderr=subprocess.STDOUT,\n",
        "        # Make all end-of-lines '\\n'\n",
        "        universal_newlines=True,\n",
        "    )\n",
        "    for line in unbuffered(proc):\n",
        "        print(line)\n",
        "        \n",
        "\n",
        "\n",
        "transfare()\n",
        "\n"
      ],
      "execution_count": 0,
      "outputs": []
    },
    {
      "cell_type": "markdown",
      "metadata": {
        "id": "fhwIXzcgfkoR",
        "colab_type": "text"
      },
      "source": [
        "#◀️ Bunun gibi daha güzel şeyler almak için Youtube Kanalına abone olun: [Destan](http://youtube.com/channel/UCVE9gvwcxhHndoRm4s3iVmw?sub_confirmation=1)"
      ]
    }
  ]
}
